{
  "cells": [
    {
      "cell_type": "code",
      "execution_count": null,
      "metadata": {},
      "outputs": [],
      "source": [
        "# RAG Quickstart – iceos-client\n",
        "# Configure ICE_API_URL and ICE_API_TOKEN in your environment before running.\n",
        "from __future__ import annotations\n",
        "\n",
        "import asyncio\n",
        "import json\n",
        "import os\n",
        "\n",
        "from ice_client import IceClient\n",
        "\n",
        "ICE_API_URL = os.getenv(\"ICE_API_URL\", \"http://localhost:8000\")\n",
        "ICE_API_TOKEN = os.getenv(\"ICE_API_TOKEN\", \"dev-token\")\n",
        "print(\"API:\", ICE_API_URL)\n",
        "\n"
      ]
    },
    {
      "cell_type": "code",
      "execution_count": null,
      "metadata": {},
      "outputs": [],
      "source": [
        "# Ingest a small sample via MCP memory_write_tool\n",
        "async def ingest_sample(client: IceClient) -> None:\n",
        "    init = await client._client.post(\n",
        "        \"/api/v1/mcp/\",\n",
        "        json={\"jsonrpc\": \"2.0\", \"id\": 0, \"method\": \"initialize\", \"params\": {}},\n",
        "    )\n",
        "    init.raise_for_status()\n",
        "    text = \"Paris is the capital of France.\"\n",
        "    payload = {\n",
        "        \"jsonrpc\": \"2.0\",\n",
        "        \"id\": 1,\n",
        "        \"method\": \"tools/call\",\n",
        "        \"params\": {\n",
        "            \"name\": \"tool:memory_write_tool\",\n",
        "            \"arguments\": {\"inputs\": {\"key\": \"fact\", \"content\": text, \"scope\": \"kb\"}},\n",
        "        },\n",
        "    }\n",
        "    r = await client._client.post(\"/api/v1/mcp/\", json=payload)\n",
        "    r.raise_for_status()\n"
      ]
    },
    {
      "cell_type": "code",
      "execution_count": null,
      "metadata": {},
      "outputs": [],
      "source": [
        "# Run ChatKit Bundle and display result\n",
        "async def run_rag() -> None:\n",
        "    async with IceClient() as client:\n",
        "        await ingest_sample(client)\n",
        "        exec_id = await client.run(\n",
        "            blueprint_id=\"chatkit.rag_chat\",\n",
        "            inputs={\n",
        "                \"query\": \"What is the capital of France?\",\n",
        "                \"org_id\": \"demo_org\",\n",
        "                \"user_id\": \"demo_user\",\n",
        "                \"session_id\": \"s1\",\n",
        "            },\n",
        "        )\n",
        "        final = await client.poll_until_complete(exec_id, timeout=60)\n",
        "        print(json.dumps(final, indent=2))\n",
        "\n",
        "await run_rag()\n"
      ]
    }
  ],
  "metadata": {
    "language_info": {
      "name": "python"
    }
  },
  "nbformat": 4,
  "nbformat_minor": 2
}
